{
 "cells": [
  {
   "cell_type": "code",
   "execution_count": 8,
   "metadata": {},
   "outputs": [],
   "source": [
    "# Load dataset\n",
    "import netCDF4 as nc\n",
    "\n",
    "# Open the file\n",
    "ds = nc.Dataset('./power_901_annual_meteorology_utc.nc.nc4')"
   ]
  },
  {
   "cell_type": "code",
   "execution_count": 9,
   "metadata": {},
   "outputs": [
    {
     "name": "stdout",
     "output_type": "stream",
     "text": [
      "{'time': <class 'netCDF4._netCDF4.Variable'>\n",
      "int32 time(time)\n",
      "    units: years since 1981-12-31 00:00:00\n",
      "    long_name: time\n",
      "unlimited dimensions: \n",
      "current shape = (2,)\n",
      "filling on, default _FillValue of -2147483647 used, 'lat': <class 'netCDF4._netCDF4.Variable'>\n",
      "float64 lat(lat)\n",
      "    _FillValue: -999.0\n",
      "    long_name: latitude\n",
      "    standard_name: latitude\n",
      "    units: degrees_north\n",
      "unlimited dimensions: \n",
      "current shape = (361,)\n",
      "filling on, 'lon': <class 'netCDF4._netCDF4.Variable'>\n",
      "float64 lon(lon)\n",
      "    _FillValue: -999.0\n",
      "    long_name: longitude\n",
      "    standard_name: longitude\n",
      "    units: degrees_east\n",
      "unlimited dimensions: \n",
      "current shape = (576,)\n",
      "filling on, 'WS50M': <class 'netCDF4._netCDF4.Variable'>\n",
      "float64 WS50M(time, lat, lon)\n",
      "    _FillValue: -999.0\n",
      "    long_name: Wind Speed at 50 Meters\n",
      "    standard_name: Wind_Speed_at_50_Meters\n",
      "    units: m/s\n",
      "    valid_max: 75.0\n",
      "    valid_min: 0.0\n",
      "    valid_range: [ 0. 75.]\n",
      "unlimited dimensions: \n",
      "current shape = (2, 361, 576)\n",
      "filling on}\n"
     ]
    }
   ],
   "source": [
    "# Print the variables and dimensions in the file\n",
    "print(ds.variables)"
   ]
  },
  {
   "cell_type": "code",
   "execution_count": 10,
   "metadata": {},
   "outputs": [
    {
     "name": "stdout",
     "output_type": "stream",
     "text": [
      "{'time': <class 'netCDF4._netCDF4.Dimension'>: name = 'time', size = 2, 'lat': <class 'netCDF4._netCDF4.Dimension'>: name = 'lat', size = 361, 'lon': <class 'netCDF4._netCDF4.Dimension'>: name = 'lon', size = 576}\n"
     ]
    }
   ],
   "source": [
    "print(ds.dimensions)"
   ]
  },
  {
   "cell_type": "code",
   "execution_count": 11,
   "metadata": {},
   "outputs": [
    {
     "name": "stdout",
     "output_type": "stream",
     "text": [
      "-180.0 179.375\n",
      "38 39\n"
     ]
    }
   ],
   "source": [
    "# print lowest and highest longitude and latitude\n",
    "print(ds.variables['lon'][:].min(), ds.variables['lon'][:].max())\n",
    "# print lowest and highest time\n",
    "print(ds.variables['time'][:].min(), ds.variables['time'][:].max())"
   ]
  },
  {
   "cell_type": "code",
   "execution_count": 12,
   "metadata": {},
   "outputs": [],
   "source": [
    "from numpy.ma import masked\n",
    "\n",
    "finalOutput = dict()\n",
    "\n",
    "timeItems = ds.variables['time'][:]\n",
    "windItems = ds.variables['WS50M'][:]\n",
    "latItems = ds.variables['lat'][:]\n",
    "lonItems = ds.variables['lon'][:]\n",
    "\n",
    "for x in range(len(timeItems)):\n",
    "    for y in range(len(latItems)):\n",
    "        for z in range(len(lonItems)):\n",
    "            val = windItems[x][y][z]\n",
    "            if val is masked:\n",
    "                continue\n",
    "\n",
    "            lat = float(latItems[y])\n",
    "            lon = float(lonItems[z])\n",
    "            if lat not in finalOutput:\n",
    "                finalOutput[lat] = dict()\n",
    "            if lon not in finalOutput[lat]:\n",
    "                finalOutput[lat][lon] = [0, 0]\n",
    "            finalOutput[lat][lon][0] += val\n",
    "            finalOutput[lat][lon][1] += 1\n",
    "results = []\n",
    "for lat in finalOutput:\n",
    "    for lon in finalOutput[lat]:\n",
    "        results.append([lat, lon, finalOutput[lat][lon][0] / finalOutput[lat][lon][1]])\n",
    "results.sort()\n",
    "with open(\"wind.csv\", \"w\") as file:\n",
    "    file.write(\",\".join([\"lat\", \"lon\", \"WS50M\"]))\n",
    "    file.write(\"\\n\")\n",
    "    for result in results:\n",
    "        file.write(\",\".join([str(x) for x in result]))\n",
    "        file.write(\"\\n\")            \n"
   ]
  },
  {
   "cell_type": "code",
   "execution_count": 1,
   "metadata": {},
   "outputs": [
    {
     "name": "stderr",
     "output_type": "stream",
     "text": [
      "c:\\Users\\Definitive\\AppData\\Local\\Programs\\Python\\Python39\\lib\\site-packages\\IPython\\core\\interactiveshell.py:3377: FutureWarning: The `op` parameter is deprecated and will be removed in a future release. Please use the `predicate` parameter instead.\n",
      "  if (await self.run_code(code, result,  async_=asy)):\n"
     ]
    }
   ],
   "source": [
    "import pandas as pd\n",
    "import geopandas as gpd\n",
    "windDf = pd.read_csv(\"wind.csv\")\n",
    "# https://stackoverflow.com/questions/56808444/reverse-geocoding-of-thousands-of-coordinates-to-get-country-only\n",
    "\n",
    "gdf = gpd.GeoDataFrame(windDf, geometry=gpd.points_from_xy(windDf.lon, windDf.lat))\n",
    "gdf.crs = \"EPSG:4326\"\n",
    "# gdf = gdf.to_crs(\"EPSG:3857\")\n",
    "result = gpd.sjoin(gdf, gpd.read_file(gpd.datasets.get_path('naturalearth_lowres')), how=\"left\", op='intersects')\n",
    "result\n",
    "result.to_csv(\"wind_countries.csv\", columns=[\"lat\", \"lon\", \"WS50M\", \"name\", \"iso_a3\"])"
   ]
  }
 ],
 "metadata": {
  "kernelspec": {
   "display_name": "Python 3",
   "language": "python",
   "name": "python3"
  },
  "language_info": {
   "codemirror_mode": {
    "name": "ipython",
    "version": 3
   },
   "file_extension": ".py",
   "mimetype": "text/x-python",
   "name": "python",
   "nbconvert_exporter": "python",
   "pygments_lexer": "ipython3",
   "version": "3.9.0"
  },
  "orig_nbformat": 4
 },
 "nbformat": 4,
 "nbformat_minor": 2
}
