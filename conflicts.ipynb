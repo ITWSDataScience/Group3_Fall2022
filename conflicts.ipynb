{
 "cells": [
  {
   "cell_type": "code",
   "execution_count": 24,
   "metadata": {},
   "outputs": [],
   "source": [
    "import pandas as pd\n",
    "from geopy.geocoders import Nominatim\n",
    "from geopy.extra.rate_limiter import RateLimiter\n",
    "from tqdm import tqdm\n",
    "\n",
    "import reverse_geocoder"
   ]
  },
  {
   "cell_type": "code",
   "execution_count": 12,
   "metadata": {},
   "outputs": [
    {
     "data": {
      "text/html": [
       "<div>\n",
       "<style scoped>\n",
       "    .dataframe tbody tr th:only-of-type {\n",
       "        vertical-align: middle;\n",
       "    }\n",
       "\n",
       "    .dataframe tbody tr th {\n",
       "        vertical-align: top;\n",
       "    }\n",
       "\n",
       "    .dataframe thead th {\n",
       "        text-align: right;\n",
       "    }\n",
       "</style>\n",
       "<table border=\"1\" class=\"dataframe\">\n",
       "  <thead>\n",
       "    <tr style=\"text-align: right;\">\n",
       "      <th></th>\n",
       "      <th>Event ID</th>\n",
       "      <th>Event Date</th>\n",
       "      <th>Source Name</th>\n",
       "      <th>Source Sectors</th>\n",
       "      <th>Source Country</th>\n",
       "      <th>Event Text</th>\n",
       "      <th>CAMEO Code</th>\n",
       "      <th>Intensity</th>\n",
       "      <th>Target Name</th>\n",
       "      <th>Target Sectors</th>\n",
       "      <th>Target Country</th>\n",
       "      <th>Story ID</th>\n",
       "      <th>Sentence Number</th>\n",
       "      <th>Publisher</th>\n",
       "      <th>City</th>\n",
       "      <th>District</th>\n",
       "      <th>Province</th>\n",
       "      <th>Country</th>\n",
       "      <th>Latitude</th>\n",
       "      <th>Longitude</th>\n",
       "    </tr>\n",
       "  </thead>\n",
       "  <tbody>\n",
       "    <tr>\n",
       "      <th>0</th>\n",
       "      <td>37543936</td>\n",
       "      <td>2022-10-13</td>\n",
       "      <td>Saudi Arabia</td>\n",
       "      <td>NaN</td>\n",
       "      <td>Saudi Arabia</td>\n",
       "      <td>Deny responsibility</td>\n",
       "      <td>16</td>\n",
       "      <td>-5.0</td>\n",
       "      <td>United States</td>\n",
       "      <td>NaN</td>\n",
       "      <td>United States</td>\n",
       "      <td>56635750</td>\n",
       "      <td>4</td>\n",
       "      <td>The Oil Daily</td>\n",
       "      <td>NaN</td>\n",
       "      <td>NaN</td>\n",
       "      <td>Washington D.C.</td>\n",
       "      <td>United States</td>\n",
       "      <td>38.9171</td>\n",
       "      <td>-77.0003</td>\n",
       "    </tr>\n",
       "    <tr>\n",
       "      <th>1</th>\n",
       "      <td>37543653</td>\n",
       "      <td>2022-10-13</td>\n",
       "      <td>Saudi Arabia</td>\n",
       "      <td>NaN</td>\n",
       "      <td>Saudi Arabia</td>\n",
       "      <td>Praise or endorse</td>\n",
       "      <td>51</td>\n",
       "      <td>3.4</td>\n",
       "      <td>Russia</td>\n",
       "      <td>NaN</td>\n",
       "      <td>Russian Federation</td>\n",
       "      <td>56635751</td>\n",
       "      <td>2</td>\n",
       "      <td>The Oil Daily</td>\n",
       "      <td>Riyadh</td>\n",
       "      <td>NaN</td>\n",
       "      <td>Mintaqat ar Riyad</td>\n",
       "      <td>Saudi Arabia</td>\n",
       "      <td>24.6877</td>\n",
       "      <td>46.7219</td>\n",
       "    </tr>\n",
       "    <tr>\n",
       "      <th>2</th>\n",
       "      <td>37542178</td>\n",
       "      <td>2022-10-14</td>\n",
       "      <td>Israel</td>\n",
       "      <td>NaN</td>\n",
       "      <td>Israel</td>\n",
       "      <td>Provide aid</td>\n",
       "      <td>70</td>\n",
       "      <td>7.0</td>\n",
       "      <td>United States</td>\n",
       "      <td>NaN</td>\n",
       "      <td>United States</td>\n",
       "      <td>56633048</td>\n",
       "      <td>5</td>\n",
       "      <td>The Jerusalem Post</td>\n",
       "      <td>NaN</td>\n",
       "      <td>NaN</td>\n",
       "      <td>NaN</td>\n",
       "      <td>United States</td>\n",
       "      <td>38.8951</td>\n",
       "      <td>-77.0364</td>\n",
       "    </tr>\n",
       "    <tr>\n",
       "      <th>3</th>\n",
       "      <td>37542179</td>\n",
       "      <td>2022-10-14</td>\n",
       "      <td>United States</td>\n",
       "      <td>NaN</td>\n",
       "      <td>United States</td>\n",
       "      <td>Provide economic aid</td>\n",
       "      <td>71</td>\n",
       "      <td>7.4</td>\n",
       "      <td>Israel</td>\n",
       "      <td>NaN</td>\n",
       "      <td>Israel</td>\n",
       "      <td>56633048</td>\n",
       "      <td>6</td>\n",
       "      <td>The Jerusalem Post</td>\n",
       "      <td>NaN</td>\n",
       "      <td>NaN</td>\n",
       "      <td>NaN</td>\n",
       "      <td>Israel</td>\n",
       "      <td>31.7790</td>\n",
       "      <td>35.2253</td>\n",
       "    </tr>\n",
       "    <tr>\n",
       "      <th>4</th>\n",
       "      <td>37542131</td>\n",
       "      <td>2022-10-14</td>\n",
       "      <td>Ukraine</td>\n",
       "      <td>NaN</td>\n",
       "      <td>Ukraine</td>\n",
       "      <td>Arrest, detain, or charge with legal action</td>\n",
       "      <td>173</td>\n",
       "      <td>-5.0</td>\n",
       "      <td>Volodymyr Zelensky</td>\n",
       "      <td>Elite,Executive,Executive Office,Government</td>\n",
       "      <td>Ukraine</td>\n",
       "      <td>56633051</td>\n",
       "      <td>2</td>\n",
       "      <td>The Jerusalem Post</td>\n",
       "      <td>NaN</td>\n",
       "      <td>NaN</td>\n",
       "      <td>NaN</td>\n",
       "      <td>Ukraine</td>\n",
       "      <td>50.4547</td>\n",
       "      <td>30.5238</td>\n",
       "    </tr>\n",
       "  </tbody>\n",
       "</table>\n",
       "</div>"
      ],
      "text/plain": [
       "   Event ID  Event Date    Source Name Source Sectors Source Country  \\\n",
       "0  37543936  2022-10-13   Saudi Arabia            NaN   Saudi Arabia   \n",
       "1  37543653  2022-10-13   Saudi Arabia            NaN   Saudi Arabia   \n",
       "2  37542178  2022-10-14         Israel            NaN         Israel   \n",
       "3  37542179  2022-10-14  United States            NaN  United States   \n",
       "4  37542131  2022-10-14        Ukraine            NaN        Ukraine   \n",
       "\n",
       "                                    Event Text  CAMEO Code  Intensity  \\\n",
       "0                          Deny responsibility          16       -5.0   \n",
       "1                            Praise or endorse          51        3.4   \n",
       "2                                  Provide aid          70        7.0   \n",
       "3                         Provide economic aid          71        7.4   \n",
       "4  Arrest, detain, or charge with legal action         173       -5.0   \n",
       "\n",
       "          Target Name                               Target Sectors  \\\n",
       "0       United States                                          NaN   \n",
       "1              Russia                                          NaN   \n",
       "2       United States                                          NaN   \n",
       "3              Israel                                          NaN   \n",
       "4  Volodymyr Zelensky  Elite,Executive,Executive Office,Government   \n",
       "\n",
       "       Target Country  Story ID  Sentence Number           Publisher    City  \\\n",
       "0       United States  56635750                4       The Oil Daily     NaN   \n",
       "1  Russian Federation  56635751                2       The Oil Daily  Riyadh   \n",
       "2       United States  56633048                5  The Jerusalem Post     NaN   \n",
       "3              Israel  56633048                6  The Jerusalem Post     NaN   \n",
       "4             Ukraine  56633051                2  The Jerusalem Post     NaN   \n",
       "\n",
       "  District           Province        Country  Latitude  Longitude  \n",
       "0      NaN    Washington D.C.  United States   38.9171   -77.0003  \n",
       "1      NaN  Mintaqat ar Riyad   Saudi Arabia   24.6877    46.7219  \n",
       "2      NaN                NaN  United States   38.8951   -77.0364  \n",
       "3      NaN                NaN         Israel   31.7790    35.2253  \n",
       "4      NaN                NaN        Ukraine   50.4547    30.5238  "
      ]
     },
     "execution_count": 12,
     "metadata": {},
     "output_type": "execute_result"
    }
   ],
   "source": [
    "df = pd.read_csv('20230108-icews-events.tab', sep='\\t')\n",
    "df.head()"
   ]
  },
  {
   "cell_type": "code",
   "execution_count": 13,
   "metadata": {},
   "outputs": [],
   "source": [
    "df = df.loc[(df['Intensity'] <= -9.0)]\n",
    "conflict_countries = df['Target Country'].dropna().unique()"
   ]
  },
  {
   "cell_type": "code",
   "execution_count": 80,
   "metadata": {},
   "outputs": [],
   "source": [
    "geolocator = Nominatim(user_agent=\"mapquestapi\")\n",
    "\n",
    "\n",
    "def is_conflict_country(lat, long):\n",
    "    query = str(lat)+','+str(long)\n",
    "    reverse = RateLimiter(geolocator.reverse, min_delay_seconds=1)\n",
    "    res = reverse(query)\n",
    "    return res.raw['address'].get('country', '')"
   ]
  },
  {
   "cell_type": "code",
   "execution_count": 81,
   "metadata": {},
   "outputs": [
    {
     "data": {
      "text/plain": [
       "'Canada'"
      ]
     },
     "execution_count": 81,
     "metadata": {},
     "output_type": "execute_result"
    }
   ],
   "source": [
    "# Test query\n",
    "is_conflict_country(83.16666666666667, -74.20833333333334)"
   ]
  },
  {
   "cell_type": "code",
   "execution_count": 14,
   "metadata": {},
   "outputs": [
    {
     "data": {
      "text/html": [
       "<div>\n",
       "<style scoped>\n",
       "    .dataframe tbody tr th:only-of-type {\n",
       "        vertical-align: middle;\n",
       "    }\n",
       "\n",
       "    .dataframe tbody tr th {\n",
       "        vertical-align: top;\n",
       "    }\n",
       "\n",
       "    .dataframe thead th {\n",
       "        text-align: right;\n",
       "    }\n",
       "</style>\n",
       "<table border=\"1\" class=\"dataframe\">\n",
       "  <thead>\n",
       "    <tr style=\"text-align: right;\">\n",
       "      <th></th>\n",
       "      <th>lat</th>\n",
       "      <th>long</th>\n",
       "      <th>population</th>\n",
       "      <th>wind_speed</th>\n",
       "      <th>solar</th>\n",
       "    </tr>\n",
       "  </thead>\n",
       "  <tbody>\n",
       "    <tr>\n",
       "      <th>0</th>\n",
       "      <td>83.166667</td>\n",
       "      <td>-74.208333</td>\n",
       "      <td>0.000009</td>\n",
       "      <td>4.253750</td>\n",
       "      <td>107.335396</td>\n",
       "    </tr>\n",
       "    <tr>\n",
       "      <th>1</th>\n",
       "      <td>83.166667</td>\n",
       "      <td>-74.166667</td>\n",
       "      <td>0.000011</td>\n",
       "      <td>4.253750</td>\n",
       "      <td>107.335396</td>\n",
       "    </tr>\n",
       "    <tr>\n",
       "      <th>2</th>\n",
       "      <td>83.166667</td>\n",
       "      <td>-74.125000</td>\n",
       "      <td>0.000011</td>\n",
       "      <td>4.253750</td>\n",
       "      <td>107.335396</td>\n",
       "    </tr>\n",
       "    <tr>\n",
       "      <th>3</th>\n",
       "      <td>83.166667</td>\n",
       "      <td>-74.083333</td>\n",
       "      <td>0.000011</td>\n",
       "      <td>4.253750</td>\n",
       "      <td>107.335396</td>\n",
       "    </tr>\n",
       "    <tr>\n",
       "      <th>4</th>\n",
       "      <td>83.166667</td>\n",
       "      <td>-74.041667</td>\n",
       "      <td>0.000008</td>\n",
       "      <td>4.266758</td>\n",
       "      <td>107.335396</td>\n",
       "    </tr>\n",
       "  </tbody>\n",
       "</table>\n",
       "</div>"
      ],
      "text/plain": [
       "         lat       long  population  wind_speed       solar\n",
       "0  83.166667 -74.208333    0.000009    4.253750  107.335396\n",
       "1  83.166667 -74.166667    0.000011    4.253750  107.335396\n",
       "2  83.166667 -74.125000    0.000011    4.253750  107.335396\n",
       "3  83.166667 -74.083333    0.000011    4.253750  107.335396\n",
       "4  83.166667 -74.041667    0.000008    4.266758  107.335396"
      ]
     },
     "execution_count": 14,
     "metadata": {},
     "output_type": "execute_result"
    }
   ],
   "source": [
    "df = pd.read_csv('models/data/grid.csv', encoding=\"UTF-8\")\n",
    "df.head()"
   ]
  },
  {
   "cell_type": "code",
   "execution_count": 26,
   "metadata": {},
   "outputs": [
    {
     "name": "stderr",
     "output_type": "stream",
     "text": [
      "100%|██████████| 7550816/7550816 [01:49<00:00, 68689.48it/s]\n"
     ]
    }
   ],
   "source": [
    "tqdm.pandas()\n",
    "test = list(df.progress_apply(lambda x: tuple([x['lat'], x['long']]), axis=1))"
   ]
  },
  {
   "cell_type": "code",
   "execution_count": 15,
   "metadata": {},
   "outputs": [
    {
     "name": "stdout",
     "output_type": "stream",
     "text": [
      "Loading formatted geocoded file...\n"
     ]
    },
    {
     "data": {
      "text/plain": [
       "[{'lat': '-37.814',\n",
       "  'lon': '144.96332',\n",
       "  'name': 'Melbourne',\n",
       "  'admin1': 'Victoria',\n",
       "  'admin2': 'Melbourne',\n",
       "  'cc': 'AU'},\n",
       " {'lat': '31.76904',\n",
       "  'lon': '35.21633',\n",
       "  'name': 'Jerusalem',\n",
       "  'admin1': 'Jerusalem',\n",
       "  'admin2': '',\n",
       "  'cc': 'IL'}]"
      ]
     },
     "execution_count": 15,
     "metadata": {},
     "output_type": "execute_result"
    }
   ],
   "source": [
    "coordinates = (-37.81, 144.96), (31.76, 35.21)\n",
    "reverse_geocoder.search(coordinates)"
   ]
  },
  {
   "cell_type": "code",
   "execution_count": 22,
   "metadata": {},
   "outputs": [],
   "source": [
    "def get_country(coordinates):\n",
    "    return reverse_geocoder.search(coordinates)[0]['cc']"
   ]
  },
  {
   "cell_type": "code",
   "execution_count": 27,
   "metadata": {},
   "outputs": [],
   "source": [
    "locations = reverse_geocoder.search(test)"
   ]
  },
  {
   "cell_type": "code",
   "execution_count": 36,
   "metadata": {},
   "outputs": [],
   "source": [
    "countries = [locations[i]['cc'] for i in range(len(locations))]"
   ]
  },
  {
   "cell_type": "code",
   "execution_count": 38,
   "metadata": {},
   "outputs": [],
   "source": [
    "df['country'] = countries"
   ]
  },
  {
   "cell_type": "code",
   "execution_count": 39,
   "metadata": {},
   "outputs": [
    {
     "data": {
      "text/plain": [
       "<bound method NDFrame.head of                lat       long  population  wind_speed       solar country\n",
       "0        83.166667 -74.208333    0.000009    4.253750  107.335396      CA\n",
       "1        83.166667 -74.166667    0.000011    4.253750  107.335396      CA\n",
       "2        83.166667 -74.125000    0.000011    4.253750  107.335396      CA\n",
       "3        83.166667 -74.083333    0.000011    4.253750  107.335396      CA\n",
       "4        83.166667 -74.041667    0.000008    4.266758  107.335396      CA\n",
       "...            ...        ...         ...         ...         ...     ...\n",
       "7550811 -55.916667 -67.250000    0.185715   11.827971         NaN      AR\n",
       "7550812 -55.916667 -67.083333    0.040128   11.713092         NaN      AR\n",
       "7550813 -55.958333 -67.333333    0.525298   11.827971         NaN      AR\n",
       "7550814 -55.958333 -67.291667    1.470422   11.827971         NaN      AR\n",
       "7550815 -55.958333 -67.250000    0.376293   11.827971         NaN      AR\n",
       "\n",
       "[7550816 rows x 6 columns]>"
      ]
     },
     "execution_count": 39,
     "metadata": {},
     "output_type": "execute_result"
    }
   ],
   "source": [
    "df.head"
   ]
  },
  {
   "cell_type": "code",
   "execution_count": 41,
   "metadata": {},
   "outputs": [],
   "source": [
    "df.to_csv('grid.csv',index = False)"
   ]
  }
 ],
 "metadata": {
  "kernelspec": {
   "display_name": "Python 3",
   "language": "python",
   "name": "python3"
  },
  "language_info": {
   "codemirror_mode": {
    "name": "ipython",
    "version": 3
   },
   "file_extension": ".py",
   "mimetype": "text/x-python",
   "name": "python",
   "nbconvert_exporter": "python",
   "pygments_lexer": "ipython3",
   "version": "3.10.8 (tags/v3.10.8:aaaf517, Oct 11 2022, 16:50:30) [MSC v.1933 64 bit (AMD64)]"
  },
  "orig_nbformat": 4,
  "vscode": {
   "interpreter": {
    "hash": "a7cb68f90cb0838205777d63e896b5427a8bd14b13a8f88b2463925e5a345997"
   }
  }
 },
 "nbformat": 4,
 "nbformat_minor": 2
}
