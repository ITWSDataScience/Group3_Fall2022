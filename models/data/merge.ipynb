{
 "cells": [
  {
   "cell_type": "code",
   "execution_count": 19,
   "metadata": {},
   "outputs": [],
   "source": [
    "import pandas as pd"
   ]
  },
  {
   "cell_type": "code",
   "execution_count": 20,
   "metadata": {},
   "outputs": [],
   "source": [
    "grid = pd.DataFrame(columns = [\"lat\", \"long\", \"population\"])"
   ]
  },
  {
   "cell_type": "markdown",
   "metadata": {},
   "source": [
    "GET GRIDS"
   ]
  },
  {
   "cell_type": "code",
   "execution_count": 24,
   "metadata": {},
   "outputs": [],
   "source": [
    "import sys\n",
    "sys.path.append(\"../tools\")\n",
    "# from grids import pxtolat, pxtolong"
   ]
  },
  {
   "cell_type": "code",
   "execution_count": 39,
   "metadata": {},
   "outputs": [],
   "source": [
    "def pxtolong(px, width):\n",
    "    adjlong = (px / width) * 360 \n",
    "    return adjlong - 180\n",
    "\n",
    "def pxtolat(px, height):\n",
    "    adjlat = (px/height) * 180\n",
    "    return -(adjlat -90)"
   ]
  },
  {
   "cell_type": "code",
   "execution_count": 63,
   "metadata": {},
   "outputs": [
    {
     "name": "stderr",
     "output_type": "stream",
     "text": [
      "100%|██████████| 4320/4320 [00:27<00:00, 159.58it/s]\n"
     ]
    }
   ],
   "source": [
    "from tqdm import tqdm\n",
    "\n",
    "d = {\n",
    "    'lat': [],\n",
    "    'long': [],\n",
    "    'population': []\n",
    "}\n",
    "\n",
    "\n",
    "with open('./gpw_pop.asc', 'r') as f:\n",
    "        for i in range(6):\n",
    "            f.readline() # skip pre data\n",
    "        width = 8640\n",
    "        height = 4320\n",
    "        for rn in tqdm(range(0, 4320)):\n",
    "            k = f.readline().split(' ')\n",
    "            for c in range(0, 8640):\n",
    "                cell_val = float(k[c]) # read population in grid\n",
    "\n",
    "                if cell_val <= 0: # skip pixel if no population\n",
    "                    continue\n",
    "                # print(cell_val)\n",
    "                d['lat'].append(pxtolat(rn, height))\n",
    "                d['long'].append(pxtolong(c, width))\n",
    "                d['population'].append(cell_val)\n",
    "        \n",
    "        \n",
    "        grid = pd.DataFrame(d)"
   ]
  },
  {
   "cell_type": "markdown",
   "metadata": {},
   "source": [
    "POPULATION"
   ]
  },
  {
   "cell_type": "code",
   "execution_count": 65,
   "metadata": {},
   "outputs": [
    {
     "data": {
      "text/html": [
       "<div>\n",
       "<style scoped>\n",
       "    .dataframe tbody tr th:only-of-type {\n",
       "        vertical-align: middle;\n",
       "    }\n",
       "\n",
       "    .dataframe tbody tr th {\n",
       "        vertical-align: top;\n",
       "    }\n",
       "\n",
       "    .dataframe thead th {\n",
       "        text-align: right;\n",
       "    }\n",
       "</style>\n",
       "<table border=\"1\" class=\"dataframe\">\n",
       "  <thead>\n",
       "    <tr style=\"text-align: right;\">\n",
       "      <th></th>\n",
       "      <th>lat</th>\n",
       "      <th>long</th>\n",
       "      <th>population</th>\n",
       "    </tr>\n",
       "  </thead>\n",
       "  <tbody>\n",
       "    <tr>\n",
       "      <th>2742573</th>\n",
       "      <td>45.791667</td>\n",
       "      <td>126.666667</td>\n",
       "      <td>621797.9</td>\n",
       "    </tr>\n",
       "    <tr>\n",
       "      <th>2926015</th>\n",
       "      <td>43.916667</td>\n",
       "      <td>125.250000</td>\n",
       "      <td>559883.8</td>\n",
       "    </tr>\n",
       "    <tr>\n",
       "      <th>2932979</th>\n",
       "      <td>43.833333</td>\n",
       "      <td>87.583333</td>\n",
       "      <td>520489.2</td>\n",
       "    </tr>\n",
       "    <tr>\n",
       "      <th>3108488</th>\n",
       "      <td>41.833333</td>\n",
       "      <td>123.333333</td>\n",
       "      <td>545899.1</td>\n",
       "    </tr>\n",
       "    <tr>\n",
       "      <th>3108490</th>\n",
       "      <td>41.833333</td>\n",
       "      <td>123.416667</td>\n",
       "      <td>601812.9</td>\n",
       "    </tr>\n",
       "    <tr>\n",
       "      <th>3168988</th>\n",
       "      <td>41.083333</td>\n",
       "      <td>28.833333</td>\n",
       "      <td>629407.6</td>\n",
       "    </tr>\n",
       "    <tr>\n",
       "      <th>3168989</th>\n",
       "      <td>41.083333</td>\n",
       "      <td>28.875000</td>\n",
       "      <td>543774.2</td>\n",
       "    </tr>\n",
       "    <tr>\n",
       "      <th>3172486</th>\n",
       "      <td>41.041667</td>\n",
       "      <td>28.791667</td>\n",
       "      <td>646545.8</td>\n",
       "    </tr>\n",
       "    <tr>\n",
       "      <th>3172487</th>\n",
       "      <td>41.041667</td>\n",
       "      <td>28.833333</td>\n",
       "      <td>818725.8</td>\n",
       "    </tr>\n",
       "    <tr>\n",
       "      <th>3172488</th>\n",
       "      <td>41.041667</td>\n",
       "      <td>28.875000</td>\n",
       "      <td>506676.8</td>\n",
       "    </tr>\n",
       "  </tbody>\n",
       "</table>\n",
       "</div>"
      ],
      "text/plain": [
       "               lat        long  population\n",
       "2742573  45.791667  126.666667    621797.9\n",
       "2926015  43.916667  125.250000    559883.8\n",
       "2932979  43.833333   87.583333    520489.2\n",
       "3108488  41.833333  123.333333    545899.1\n",
       "3108490  41.833333  123.416667    601812.9\n",
       "3168988  41.083333   28.833333    629407.6\n",
       "3168989  41.083333   28.875000    543774.2\n",
       "3172486  41.041667   28.791667    646545.8\n",
       "3172487  41.041667   28.833333    818725.8\n",
       "3172488  41.041667   28.875000    506676.8"
      ]
     },
     "execution_count": 65,
     "metadata": {},
     "output_type": "execute_result"
    }
   ],
   "source": [
    "tmp = grid.loc[grid['population'] > 500000]\n",
    "tmp.head(10)"
   ]
  },
  {
   "cell_type": "markdown",
   "metadata": {},
   "source": [
    "EARTHQUAKES"
   ]
  },
  {
   "cell_type": "code",
   "execution_count": null,
   "metadata": {},
   "outputs": [],
   "source": []
  },
  {
   "cell_type": "markdown",
   "metadata": {},
   "source": [
    "TSUNAMI"
   ]
  },
  {
   "cell_type": "code",
   "execution_count": null,
   "metadata": {},
   "outputs": [],
   "source": []
  },
  {
   "cell_type": "markdown",
   "metadata": {},
   "source": [
    "HURRICANES"
   ]
  },
  {
   "cell_type": "code",
   "execution_count": null,
   "metadata": {},
   "outputs": [],
   "source": []
  },
  {
   "cell_type": "markdown",
   "metadata": {},
   "source": [
    "WIND"
   ]
  },
  {
   "cell_type": "code",
   "execution_count": null,
   "metadata": {},
   "outputs": [],
   "source": []
  },
  {
   "cell_type": "markdown",
   "metadata": {},
   "source": [
    "SOLAR"
   ]
  },
  {
   "cell_type": "code",
   "execution_count": null,
   "metadata": {},
   "outputs": [],
   "source": []
  }
 ],
 "metadata": {
  "kernelspec": {
   "display_name": "Python 3.8.11 ('IMT-Agent')",
   "language": "python",
   "name": "python3"
  },
  "language_info": {
   "codemirror_mode": {
    "name": "ipython",
    "version": 3
   },
   "file_extension": ".py",
   "mimetype": "text/x-python",
   "name": "python",
   "nbconvert_exporter": "python",
   "pygments_lexer": "ipython3",
   "version": "3.8.11"
  },
  "orig_nbformat": 4,
  "vscode": {
   "interpreter": {
    "hash": "e8cc440d96d2fcb54bfd7cce167ba54cb59c0a6201b260a815958091ec939efc"
   }
  }
 },
 "nbformat": 4,
 "nbformat_minor": 2
}
