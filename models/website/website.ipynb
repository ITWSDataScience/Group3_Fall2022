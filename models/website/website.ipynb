{
 "cells": [
  {
   "cell_type": "code",
   "execution_count": 3,
   "metadata": {},
   "outputs": [
    {
     "name": "stdout",
     "output_type": "stream",
     "text": [
      "Index(['Unnamed: 0.1', 'Unnamed: 0', 'lat', 'long', 'population', 'iso3_code',\n",
      "       'corruption_perception_index', 'conflict_intensity', 'solar',\n",
      "       'wind_speed', 'kmeans_label', 'weight', 'birch_label',\n",
      "       'gaussian_label'],\n",
      "      dtype='object')\n"
     ]
    }
   ],
   "source": [
    "import numpy as np\n",
    "import pandas as pd\n",
    "\n",
    "df = pd.read_csv(\"cluster_label_for_dataset.csv\")\n",
    "print(df.columns)\n",
    "df = df[['lat', 'long', 'population', 'conflict_intensity', 'corruption_perception_index','solar', 'wind_speed', 'kmeans_label', 'birch_label', 'gaussian_label']]"
   ]
  },
  {
   "cell_type": "code",
   "execution_count": 4,
   "metadata": {},
   "outputs": [
    {
     "name": "stdout",
     "output_type": "stream",
     "text": [
      "-34.83333333333334 37.583333333333336 -17.583333333333343 63.5\n"
     ]
    }
   ],
   "source": [
    "# get min and max of lat and long\n",
    "minLat = df['lat'].min()\n",
    "maxLat = df['lat'].max()\n",
    "minLong = df['long'].min()\n",
    "maxLong = df['long'].max()\n",
    "print(minLat, maxLat, minLong, maxLong)\n",
    "sortedDF = df.sort_values(by=['lat', 'long'])\n",
    "# iterate through each row of sortedDF and print the row\n",
    "latIdx = 0\n",
    "lonIdx = 0\n"
   ]
  },
  {
   "cell_type": "code",
   "execution_count": 5,
   "metadata": {},
   "outputs": [
    {
     "name": "stdout",
     "output_type": "stream",
     "text": [
      "0\n",
      "100000\n",
      "200000\n",
      "300000\n",
      "400000\n",
      "500000\n",
      "600000\n",
      "700000\n",
      "800000\n",
      "900000\n",
      "1000000\n",
      "1100000\n",
      "1200000\n",
      "1300000\n",
      "1400000\n"
     ]
    }
   ],
   "source": [
    "latDiff = 13.458333333333329 - 13.416666666666655\n",
    "longDiff = 8.958333333333343 - 8.916666666666657\n",
    "THRESHOLD = 0.0000001\n",
    "def isPoint(latX, lonX, latY, lonY):\n",
    "    if abs(latX - latY) <= THRESHOLD and abs(lonX - lonY) <= THRESHOLD:\n",
    "        return True\n",
    "    return False\n",
    "arr = []\n",
    "arrRow = []\n",
    "lons = []\n",
    "lats = []\n",
    "idx = 0\n",
    "\n",
    "latIdx = 0\n",
    "lonIdx = 0\n",
    "sortedDF = df.sort_values(by=['lat', 'long'])\n",
    "while minLong + lonIdx * longDiff < maxLong + THRESHOLD:\n",
    "    lons.append(minLong + lonIdx * longDiff)\n",
    "    lonIdx += 1\n",
    "while minLat + latIdx * latDiff < maxLat + THRESHOLD:\n",
    "    lats.append(minLat + latIdx * latDiff)\n",
    "    latIdx += 1\n",
    "lonIdx = 0\n",
    "latIdx = 0\n",
    "appendToLons = True\n",
    "for index, row in sortedDF.iterrows():\n",
    "    if idx % 100000 == 0:\n",
    "        print(idx)\n",
    "    idx += 1\n",
    "    while not isPoint(minLat + latIdx * latDiff, minLong + lonIdx * longDiff, row['lat'], row['long']):\n",
    "        \n",
    "        arrRow.append(np.NaN)\n",
    "        lonIdx += 1\n",
    "        \n",
    "        if minLong + lonIdx * longDiff > maxLong + THRESHOLD:\n",
    "            appendToLons = False\n",
    "            arr.append(arrRow)\n",
    "            arrRow = []\n",
    "            lonIdx = 0\n",
    "            latIdx += 1\n",
    "            \n",
    "            if minLat + latIdx * latDiff > maxLat + THRESHOLD:\n",
    "                print(\"ERR\", minLat + latIdx * latDiff, maxLat, minLong + lonIdx * longDiff, maxLong)\n",
    "                print(row)\n",
    "                break\n",
    "    \n",
    "    # arrRow.append(row['solar'])\n",
    "    arrRow.append({\n",
    "        \"solar\": row['solar'],\n",
    "        \"wind_speed\": row['wind_speed'],\n",
    "        \"population\": row['population'],\n",
    "        \"kmeans_label\": row['kmeans_label'],\n",
    "        \"birch_label\": row['birch_label'],\n",
    "        \"gaussian_label\": row['gaussian_label'],\n",
    "        \"conflict_intensity\": row['conflict_intensity'],\n",
    "        \"corruption_perception_index\": row['corruption_perception_index']\n",
    "    })\n",
    "    # ['population', 'conflict_intensity', 'corruption_perception_index','solar', 'wind_speed', 'kmeans_label', 'birch_label', 'gaussian_label']\n",
    "    #  df[['lat', 'long', 'population', 'iso3_code', 'solar', 'wind_speed', 'kmeans_label', 'birch_label', 'gaussian_label']]\n",
    "    lonIdx += 1\n",
    "    if minLong + lonIdx * longDiff > maxLong + THRESHOLD:\n",
    "        arr.append(arrRow)\n",
    "        arrRow = []\n",
    "        lonIdx = 0\n",
    "        latIdx += 1\n",
    "while len(arrRow) < len(arr[0]):\n",
    "    arrRow.append(np.NaN)\n",
    "arr.append(arrRow)"
   ]
  },
  {
   "cell_type": "code",
   "execution_count": 29,
   "metadata": {},
   "outputs": [
    {
     "name": "stdout",
     "output_type": "stream",
     "text": [
      "1739 1947\n",
      "974 870 870\n"
     ]
    }
   ],
   "source": [
    "# import basemap\n"
   ]
  },
  {
   "cell_type": "code",
   "execution_count": 27,
   "metadata": {},
   "outputs": [
    {
     "data": {
      "image/png": "[encoded data removed]",
      "text/plain": [
       "<Figure size 640x480 with 2 Axes>"
      ]
     },
     "metadata": {},
     "output_type": "display_data"
    }
   ],
   "source": [
    "import matplotlib.pyplot as plt\n",
    "from mpl_toolkits.basemap import Basemap\n",
    "from PIL import Image\n",
    "\n",
    "import matplotlib as mpl\n",
    "\n",
    "lonsMesh, latsMesh = np.meshgrid(lons, lats)\n",
    "def plotFig(figArr, name):\n",
    "    plt.clf()\n",
    "    npGrid = np.ma.masked_equal(np.array(figArr), np.NaN)\n",
    "\n",
    "    m = Basemap(llcrnrlat=minLat, urcrnrlat=maxLat, llcrnrlon=minLong, urcrnrlon=maxLong, epsg=3857, fix_aspect=False, projection='merc', ellps=\"WGS84\")\n",
    "\n",
    "    # m.drawcoastlines()\n",
    "    # m.drawcountries()\n",
    "    \n",
    "    plt.axis(\"off\")\n",
    "    mpl.rcParams['savefig.pad_inches'] = 0\n",
    "    # plt.margins((0,0))\n",
    "    plt.gca().set_axis_off()\n",
    "    # plt.subplots_adjust(top = 1, bottom = 0, right = 1, left = 0, \n",
    "                # hspace = 0, wspace = 0)\n",
    "    plt.margins(0,0)\n",
    "    # plt.autoscale(tight=True)\n",
    "    plt.rcParams[\"figure.autolayout\"] = False\n",
    "    mpcm = m.pcolormesh(lonsMesh, latsMesh, npGrid, latlon=True, cmap='jet', snap=False)\n",
    "    plt.savefig(name + \".png\", dpi=500, bbox_inches='tight', pad_inches=0)\n",
    "    \n",
    "    plt.clf()\n",
    "    plt.colorbar(mpcm)\n",
    "    plt.axis(\"off\")\n",
    "    plt.savefig(name + \"_colorbar.png\", dpi=500, bbox_inches='tight', pad_inches=0)\n",
    "\n",
    "    img = Image.open(name + \"_colorbar.png\")\n",
    "\n",
    "    # crop the white off the left side of the image\n",
    "    img = img.crop((2000, 0, img.size[0], img.size[1]))\n",
    "    img.save(name + \"_colorbar.png\", \"PNG\")\n",
    "    for image in [name + \".png\", name + \"_colorbar.png\"]:\n",
    "        img = Image.open(image)\n",
    "        img = img.convert(\"RGBA\")\n",
    "        datas = img.getdata()\n",
    "        newData = []\n",
    "        for item in datas:\n",
    "            if item[0] == 255 and item[1] == 255 and item[2] == 255:\n",
    "                newData.append((255, 255, 255, 0))\n",
    "            else:\n",
    "                newData.append(item)\n",
    "        img.putdata(newData)\n",
    "        img.save(image, \"PNG\")\n",
    "\n",
    "plt.show()\n",
    "items = ['population', 'conflict_intensity', 'corruption_perception_index','solar', 'wind_speed', 'kmeans_label', 'birch_label', 'gaussian_label']\n",
    "# items = ['conflict_intensity']\n",
    "for colName in items:\n",
    "    figArr = []\n",
    "    for row in arr:\n",
    "        figArrRow = []\n",
    "        for item in row:\n",
    "            if item is np.NaN:\n",
    "                figArrRow.append(np.NaN)\n",
    "            else:\n",
    "                figArrRow.append(item[colName])\n",
    "        figArr.append(figArrRow)\n",
    "    plotFig(figArr, colName)"
   ]
  },
  {
   "cell_type": "code",
   "execution_count": 77,
   "metadata": {},
   "outputs": [],
   "source": [
    "# make all white transparent from output.png\n",
    "from PIL import Image\n",
    "img = Image.open(\"output.png\")\n",
    "img = img.convert(\"RGBA\")\n",
    "datas = img.getdata()\n",
    "newData = []\n",
    "for item in datas:\n",
    "    if item[0] == 255 and item[1] == 255 and item[2] == 255:\n",
    "        newData.append((255, 255, 255, 0))\n",
    "    else:\n",
    "        newData.append(item)\n",
    "img.putdata(newData)\n",
    "img.save(\"output1.png\", \"PNG\")\n"
   ]
  },
  {
   "cell_type": "code",
   "execution_count": null,
   "metadata": {},
   "outputs": [],
   "source": []
  }
 ],
 "metadata": {
  "kernelspec": {
   "display_name": "Python 3",
   "language": "python",
   "name": "python3"
  },
  "language_info": {
   "codemirror_mode": {
    "name": "ipython",
    "version": 3
   },
   "file_extension": ".py",
   "mimetype": "text/x-python",
   "name": "python",
   "nbconvert_exporter": "python",
   "pygments_lexer": "ipython3",
   "version": "3.10.6"
  },
  "orig_nbformat": 4
 },
 "nbformat": 4,
 "nbformat_minor": 2
}
