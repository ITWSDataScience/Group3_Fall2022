{
 "cells": [
  {
   "cell_type": "code",
   "execution_count": 2,
   "metadata": {},
   "outputs": [
    {
     "name": "stdout",
     "output_type": "stream",
     "text": [
      "Index(['Unnamed: 0.1', 'Unnamed: 0', 'lat', 'long', 'population', 'iso3_code',\n",
      "       'corruption_perception_index', 'conflict_intensity', 'solar',\n",
      "       'wind_speed', 'kmeans_label', 'weight', 'birch_label',\n",
      "       'gaussian_label'],\n",
      "      dtype='object')\n"
     ]
    }
   ],
   "source": [
    "import pandas as pd\n",
    "\n",
    "df = pd.read_csv(\"cluster_label_for_dataset.csv\")\n",
    "print(df.columns)\n",
    "\n"
   ]
  },
  {
   "cell_type": "code",
   "execution_count": 3,
   "metadata": {},
   "outputs": [
    {
     "name": "stdout",
     "output_type": "stream",
     "text": [
      "Index(['lat', 'long', 'population', 'iso3_code', 'solar', 'wind_speed',\n",
      "       'kmeans_label', 'birch_label', 'gaussian_label'],\n",
      "      dtype='object')\n"
     ]
    }
   ],
   "source": [
    "df = df[['lat', 'long', 'population', 'iso3_code', 'solar', 'wind_speed', 'kmeans_label', 'birch_label', 'gaussian_label']]\n",
    "print(df.columns)\n",
    "\n",
    "\n"
   ]
  },
  {
   "cell_type": "code",
   "execution_count": 4,
   "metadata": {},
   "outputs": [],
   "source": [
    "import numpy as np"
   ]
  },
  {
   "cell_type": "code",
   "execution_count": 6,
   "metadata": {},
   "outputs": [
    {
     "name": "stdout",
     "output_type": "stream",
     "text": [
      "-34.83333333333334 37.583333333333336 -17.583333333333343 63.5\n"
     ]
    }
   ],
   "source": [
    "\n",
    "# get min and max of lat and long\n",
    "minLat = df['lat'].min()\n",
    "maxLat = df['lat'].max()\n",
    "minLong = df['long'].min()\n",
    "maxLong = df['long'].max()\n",
    "print(minLat, maxLat, minLong, maxLong)\n",
    "sortedDF = df.sort_values(by=['lat', 'long'])\n",
    "# iterate through each row of sortedDF and print the row\n",
    "latIdx = 0\n",
    "lonIdx = 0\n",
    "\n",
    "\n",
    "\n",
    "    # print(row['lat'], row['long'], row['population'], row['iso3_code'], row['solar'], row['wind_speed'], row['kmeans_label'], row['birch_label'], row['gaussian_label'])"
   ]
  },
  {
   "cell_type": "code",
   "execution_count": 12,
   "metadata": {},
   "outputs": [
    {
     "name": "stdout",
     "output_type": "stream",
     "text": [
      "0.0 65535.0\n"
     ]
    }
   ],
   "source": [
    "# from sklearn.preprocessing import MinMaxScaler\n",
    "# scaler = MinMaxScaler(feature_range=(0, 65535))\n",
    "# sortedDF['solar'] = scaler.fit_transform(sortedDF[['solar']])\n",
    "# print(sortedDF['solar'].min(), sortedDF['solar'].max())"
   ]
  },
  {
   "cell_type": "code",
   "execution_count": 24,
   "metadata": {},
   "outputs": [
    {
     "name": "stdout",
     "output_type": "stream",
     "text": [
      "0\n",
      "100000\n",
      "200000\n",
      "300000\n",
      "400000\n",
      "500000\n",
      "600000\n",
      "700000\n",
      "800000\n",
      "900000\n",
      "1000000\n",
      "1100000\n",
      "1200000\n",
      "1300000\n",
      "1400000\n"
     ]
    }
   ],
   "source": [
    "latDiff = 13.458333333333329 - 13.416666666666655\n",
    "longDiff = 8.958333333333343 - 8.916666666666657\n",
    "THRESHOLD = 0.0000001\n",
    "def isPoint(latX, lonX, latY, lonY):\n",
    "    if abs(latX - latY) <= THRESHOLD and abs(lonX - lonY) <= THRESHOLD:\n",
    "        return True\n",
    "    return False\n",
    "arr = []\n",
    "arrRow = []\n",
    "lons = []\n",
    "lats = []\n",
    "idx = 0\n",
    "maskedArr = []\n",
    "maskedArrRow = []\n",
    "from sklearn.preprocessing import MinMaxScaler\n",
    "\n",
    "latIdx = 0\n",
    "lonIdx = 0\n",
    "sortedDF = df.sort_values(by=['lat', 'long'])\n",
    "while minLong + lonIdx * longDiff < maxLong + THRESHOLD:\n",
    "    lons.append(minLong + lonIdx * longDiff)\n",
    "    lonIdx += 1\n",
    "while minLat + latIdx * latDiff < maxLat + THRESHOLD:\n",
    "    lats.append(minLat + latIdx * latDiff)\n",
    "    latIdx += 1\n",
    "lonIdx = 0\n",
    "latIdx = 0\n",
    "# scaler = MinMaxScaler(feature_range=(0, 65535))\n",
    "# sortedDF['solar'] = scaler.fit_transform(sortedDF[['solar']])\n",
    "# print(sortedDF['solar'].min(), sortedDF['solar'].max())\n",
    "appendToLons = True\n",
    "for index, row in sortedDF.iterrows():\n",
    "    if idx % 100000 == 0:\n",
    "        print(idx)\n",
    "    idx += 1\n",
    "    while not isPoint(minLat + latIdx * latDiff, minLong + lonIdx * longDiff, row['lat'], row['long']):\n",
    "        \n",
    "        arrRow.append(np.NaN)\n",
    "        # arrRow.append(0)\n",
    "        maskedArrRow.append(1)\n",
    "        lonIdx += 1\n",
    "        \n",
    "        if minLong + lonIdx * longDiff > maxLong + THRESHOLD:\n",
    "            appendToLons = False\n",
    "            arr.append(arrRow)\n",
    "            # arr.append(arrRow)\n",
    "            maskedArr.append(maskedArrRow)\n",
    "            arrRow = []\n",
    "            maskedArrRow = []\n",
    "            lonIdx = 0\n",
    "            latIdx += 1\n",
    "            \n",
    "            if minLat + latIdx * latDiff > maxLat + THRESHOLD:\n",
    "                print(\"ERR\", minLat + latIdx * latDiff, maxLat, minLong + lonIdx * longDiff, maxLong)\n",
    "                print(row)\n",
    "                break\n",
    "    \n",
    "    arrRow.append(row['solar'])\n",
    "    # arrRow.append(np.ushort(row['solar']))\n",
    "    maskedArrRow.append(0)\n",
    "    lonIdx += 1\n",
    "    if minLong + lonIdx * longDiff > maxLong + THRESHOLD:\n",
    "        arr.append(arrRow)\n",
    "        maskedArr.append(maskedArrRow)\n",
    "        arrRow = []\n",
    "        maskedArrRow = []\n",
    "        lonIdx = 0\n",
    "        latIdx += 1\n",
    "while len(arrRow) < len(arr[0]):\n",
    "    arrRow.append(np.NaN)\n",
    "    # arrRow.append(0)\n",
    "    maskedArrRow.append(1)\n",
    "arr.append(arrRow)\n",
    "maskedArr.append(maskedArrRow)\n",
    "finalArr = []\n",
    "finalLats = []\n",
    "finalLons = []\n",
    "for i in range(0, len(lons), 2):\n",
    "    finalLons.append(lons[i])\n",
    "\n",
    "for i in range(0, len(lats), 2):\n",
    "    finalArrRow = []\n",
    "    finalLats.append(lats[i])\n",
    "    for x in range(0, len(arr[i]), 2):\n",
    "        finalArrRow.append(arr[i][x])\n",
    "        # finalArr.append([arr[i][x], arr[i][x+1], arr[i+1][x], arr[i+1][x+1]])\n",
    "        # finalLats.append(lats[i])\n",
    "        # finalLons.append(lons[x])\n",
    "    finalArr.append(finalArrRow)"
   ]
  },
  {
   "cell_type": "code",
   "execution_count": 26,
   "metadata": {},
   "outputs": [],
   "source": [
    "latIdx = 0\n",
    "lonIdx = 0\n",
    "while minLong + lonIdx * longDiff < maxLong + THRESHOLD:\n",
    "    lons.append(minLong + lonIdx * longDiff)\n",
    "    lonIdx += 1\n",
    "while minLat + latIdx * latDiff < maxLat + THRESHOLD:\n",
    "    lats.append(minLat + latIdx * latDiff)\n",
    "    latIdx += 1\n",
    "\n",
    "finalArr = []\n",
    "finalLats = []\n",
    "finalLons = []\n",
    "for i in range(0, len(lons), 2):\n",
    "    finalLons.append(lons[i])\n",
    "\n",
    "for i in range(0, len(lats), 2):\n",
    "    finalArrRow = []\n",
    "    finalLats.append(lats[i])\n",
    "    for x in range(0, len(arr[i]), 2):\n",
    "        finalArrRow.append(arr[i][x])\n",
    "        # finalArr.append([arr[i][x], arr[i][x+1], arr[i+1][x], arr[i+1][x+1]])\n",
    "        # finalLats.append(lats[i])\n",
    "        # finalLons.append(lons[x])\n",
    "    finalArr.append(finalArrRow)"
   ]
  },
  {
   "cell_type": "code",
   "execution_count": 29,
   "metadata": {},
   "outputs": [
    {
     "name": "stdout",
     "output_type": "stream",
     "text": [
      "1739 1947\n",
      "974 870 870\n"
     ]
    }
   ],
   "source": [
    "# import basemap\n",
    "import matplotlib.pyplot as plt\n",
    "from mpl_toolkits.basemap import Basemap\n",
    "\n",
    "print(len(arr), len(arr[1]))\n",
    "print(len(finalLons), len(finalLats), len(finalArr))\n",
    "for i in range(len(arr)):\n",
    "    if len(arr[i]) != 1947:\n",
    "        print(i)\n",
    "# np.ma.array([[0, 0, 1, 3, 4], [0, 1, 2, 3, 4]], mask=[[0, 0, 1, 0, 0], [0, 0, 0, 0, 0]], dtype=np.ushort)\n",
    "# npGrid = np.ma.array(arr, mask=maskedArr, dtype=np.ushort)\n",
    "npGrid = np.ma.masked_equal(np.array(arr), np.NaN)"
   ]
  },
  {
   "cell_type": "code",
   "execution_count": 76,
   "metadata": {},
   "outputs": [
    {
     "name": "stdout",
     "output_type": "stream",
     "text": [
      "[[-35, -18], [38, 64]]\n",
      "974\n",
      "870\n",
      "1739\n",
      "1947\n"
     ]
    },
    {
     "data": {
      "image/png": "[encoded data removed]",
      "text/plain": [
       "<Figure size 640x480 with 1 Axes>"
      ]
     },
     "metadata": {},
     "output_type": "display_data"
    }
   ],
   "source": [
    "import math\n",
    "import matplotlib as mpl\n",
    "minLatFloor = math.floor(minLat)\n",
    "minLongFloor = math.floor(minLong)\n",
    "maxLatCeil = math.ceil(maxLat)\n",
    "maxLongCeil = math.ceil(maxLong)\n",
    "print(f\"[[{minLatFloor}, {minLongFloor}], [{maxLatCeil}, {maxLongCeil}]]\")\n",
    "# m = Basemap(llcrnrlat=minLatFloor, urcrnrlat=maxLatCeil, llcrnrlon=minLongFloor, urcrnrlon=maxLongCeil, projection='merc', epsg=3857, ellps=\"WGS84\")\n",
    "# m = Basemap(llcrnrlat=minLatFloor, urcrnrlat=maxLatCeil, llcrnrlon=minLongFloor, urcrnrlon=maxLongCeil, epsg=3857)\n",
    "m = Basemap(llcrnrlat=minLat, urcrnrlat=maxLat, llcrnrlon=minLong, urcrnrlon=maxLong, epsg=3857, fix_aspect=False, projection='merc', ellps=\"WGS84\")\n",
    "# m = Basemap(projection='merc')\n",
    "# m = Basemap(epsg=3857, ellps=\"WGS84\")\n",
    "# m = Basemap(epsg=4326, ellps=\"WGS84\")\n",
    "# m = Basemap(llcrnrlat=minLat, urcrnrlat=maxLat, llcrnrlon=minLong, urcrnrlon=maxLong, epsg=4326)\n",
    "# lons, lats, npGrid = getColorMeshData(df, 'cluster')\n",
    "# draw a shaded-relief image\n",
    "\n",
    "# m.drawcoastlines()\n",
    "# m.drawcountries()\n",
    "print(len(finalLons))\n",
    "print(len(finalLats))\n",
    "print(len(npGrid))\n",
    "print(len(npGrid[0]))\n",
    "lonsMesh, latsMesh = np.meshgrid(lons, lats)\n",
    "plt.axis(\"off\")\n",
    "mpl.rcParams['savefig.pad_inches'] = 0\n",
    "# plt.margins((0,0))\n",
    "plt.gca().set_axis_off()\n",
    "# plt.subplots_adjust(top = 1, bottom = 0, right = 1, left = 0, \n",
    "            # hspace = 0, wspace = 0)\n",
    "plt.margins(0,0)\n",
    "# plt.autoscale(tight=True)\n",
    "plt.rcParams[\"figure.autolayout\"] = False\n",
    "m.pcolormesh(lonsMesh, latsMesh, npGrid, latlon=True, cmap='jet', snap=False)\n",
    "plt.savefig(\"output.png\", dpi=500, bbox_inches='tight', pad_inches=0)\n",
    "# mplleaflet.show()"
   ]
  },
  {
   "cell_type": "code",
   "execution_count": 77,
   "metadata": {},
   "outputs": [],
   "source": [
    "# make all white transparent from output.png\n",
    "from PIL import Image\n",
    "img = Image.open(\"output.png\")\n",
    "img = img.convert(\"RGBA\")\n",
    "datas = img.getdata()\n",
    "newData = []\n",
    "for item in datas:\n",
    "    if item[0] == 255 and item[1] == 255 and item[2] == 255:\n",
    "        newData.append((255, 255, 255, 0))\n",
    "    else:\n",
    "        newData.append(item)\n",
    "img.putdata(newData)\n",
    "img.save(\"output1.png\", \"PNG\")\n"
   ]
  },
  {
   "cell_type": "code",
   "execution_count": null,
   "metadata": {},
   "outputs": [],
   "source": [
    "# import numpy as np\n",
    "# from mpl_toolkits.basemap import Basemap\n",
    "# # from data analytics\n",
    "# def getColorMeshData(currDf, targetVar):\n",
    "#     dfDict = dict()\n",
    "#     # get unique latitudes and longitudes in df\n",
    "#     for index, row in currDf.iterrows():\n",
    "#         lat = row['lat']\n",
    "#         lon = row['lon']\n",
    "#         if lat not in dfDict:\n",
    "#             dfDict[lat] = dict()\n",
    "#         dfDict[lat][lon] = row[targetVar]\n",
    "\n",
    "\n",
    "#     lat = float(-90)\n",
    "#     lats = np.linspace(-90, 90, 180*2 + 1)\n",
    "#     lons = np.linspace(-180, 180, 360*2 + 1)\n",
    "\n",
    "#     arr = []\n",
    "#     for lat in lats:\n",
    "#         currRow = []\n",
    "#         for lon in lons:\n",
    "#             if lat in dfDict and lon in dfDict[lat]:\n",
    "#                 # currRow.append(1)\n",
    "#                 currRow.append(dfDict[lat][lon])\n",
    "#             else:\n",
    "#                 currRow.append(np.NaN)\n",
    "#         arr.append(currRow)\n",
    "\n",
    "#     return lons, lats, np.ma.masked_equal(np.array(arr), np.NaN)\n",
    "\n",
    "# def draw_map():\n",
    "#     m = Basemap()\n",
    "#     lons, lats, npGrid = getColorMeshData(df, 'cluster')\n",
    "#     # draw a shaded-relief image\n",
    "#     m.drawcoastlines()\n",
    "#     m.drawcountries()\n",
    "\n",
    "#     lons, lats = np.meshgrid(lons, lats)\n",
    "#     m.pcolormesh(lons, lats, npGrid, latlon=True, cmap='jet', snap=True)\n",
    "#     plt.title(\"K-Means Clustering\")\n",
    "#     plt.colorbar(label=r'Clusters')"
   ]
  }
 ],
 "metadata": {
  "kernelspec": {
   "display_name": "Python 3",
   "language": "python",
   "name": "python3"
  },
  "language_info": {
   "codemirror_mode": {
    "name": "ipython",
    "version": 3
   },
   "file_extension": ".py",
   "mimetype": "text/x-python",
   "name": "python",
   "nbconvert_exporter": "python",
   "pygments_lexer": "ipython3",
   "version": "3.10.6"
  },
  "orig_nbformat": 4
 },
 "nbformat": 4,
 "nbformat_minor": 2
}
